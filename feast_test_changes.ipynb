{
 "cells": [
  {
   "cell_type": "code",
   "execution_count": 7,
   "id": "57d0a096",
   "metadata": {},
   "outputs": [],
   "source": [
    "batch_size = 10\n",
    "entity_ids = range(85)\n",
    "total = len(entity_ids)"
   ]
  },
  {
   "cell_type": "code",
   "execution_count": 13,
   "id": "27072d11",
   "metadata": {},
   "outputs": [],
   "source": [
    "iters = total // batch_size + 1 if total % batch_size > 0 else total // batch_size"
   ]
  },
  {
   "cell_type": "code",
   "execution_count": 15,
   "id": "e2e470b4",
   "metadata": {},
   "outputs": [
    {
     "name": "stdout",
     "output_type": "stream",
     "text": [
      "0 10\n",
      "10 20\n",
      "20 30\n",
      "30 40\n",
      "40 50\n",
      "50 60\n",
      "60 70\n",
      "70 80\n",
      "80 85\n"
     ]
    }
   ],
   "source": [
    "for i in range(iters):\n",
    "    start_index = min(i * batch_size, len(entity_ids))\n",
    "    end_index = min(i * batch_size + batch_size, len(entity_ids))\n",
    "    print(start_index, end_index)"
   ]
  },
  {
   "cell_type": "code",
   "execution_count": 18,
   "id": "a2641186",
   "metadata": {},
   "outputs": [
    {
     "name": "stdout",
     "output_type": "stream",
     "text": [
      "empty\n"
     ]
    }
   ],
   "source": [
    "if {}:\n",
    "    print('aa')\n",
    "else:\n",
    "    print('empty')"
   ]
  },
  {
   "cell_type": "code",
   "execution_count": 19,
   "id": "ad83fde4",
   "metadata": {},
   "outputs": [],
   "source": [
    "result = {\n",
    "    \"Item\": {\n",
    "        \"AlbumTitle\": {\n",
    "            \"S\": \"Songs About Life\"\n",
    "        },\n",
    "        \"SongTitle\": {\n",
    "            \"S\": \"Happy Day\"\n",
    "        },\n",
    "        \"Artist\": {\n",
    "            \"S\": \"Acme Band\"\n",
    "        }\n",
    "    },\n",
    "    \"ConsumedCapacity\": {\n",
    "        \"TableName\": \"MusicCollection\",\n",
    "        \"CapacityUnits\": 0.5\n",
    "    }\n",
    "}"
   ]
  },
  {
   "cell_type": "code",
   "execution_count": 20,
   "id": "bd88642b",
   "metadata": {},
   "outputs": [
    {
     "data": {
      "text/plain": [
       "{'AlbumTitle': {'S': 'Songs About Life'},\n",
       " 'SongTitle': {'S': 'Happy Day'},\n",
       " 'Artist': {'S': 'Acme Band'}}"
      ]
     },
     "execution_count": 20,
     "metadata": {},
     "output_type": "execute_result"
    }
   ],
   "source": [
    "result.get(\"Item\")"
   ]
  },
  {
   "cell_type": "code",
   "execution_count": 21,
   "id": "8133f52a",
   "metadata": {},
   "outputs": [],
   "source": [
    "response = {\n",
    "    \"Responses\": {\n",
    "        \"MusicCollection\": [\n",
    "            {\n",
    "                \"AlbumTitle\": {\n",
    "                    \"S\": \"Somewhat Famous\"\n",
    "                }\n",
    "            },\n",
    "            {\n",
    "                \"AlbumTitle\": {\n",
    "                    \"S\": \"Blue Sky Blues\"\n",
    "                }\n",
    "            },\n",
    "            {\n",
    "                \"AlbumTitle\": {\n",
    "                    \"S\": \"Louder Than Ever\"\n",
    "                }\n",
    "            }\n",
    "        ]\n",
    "    },\n",
    "    \"UnprocessedKeys\": {},\n",
    "    \"ConsumedCapacity\": [\n",
    "        {\n",
    "            \"TableName\": \"MusicCollection\",\n",
    "            \"CapacityUnits\": 1.5\n",
    "        }\n",
    "    ]\n",
    "}"
   ]
  },
  {
   "cell_type": "code",
   "execution_count": 22,
   "id": "c90e260a",
   "metadata": {},
   "outputs": [
    {
     "data": {
      "text/plain": [
       "[{'AlbumTitle': {'S': 'Somewhat Famous'}},\n",
       " {'AlbumTitle': {'S': 'Blue Sky Blues'}},\n",
       " {'AlbumTitle': {'S': 'Louder Than Ever'}}]"
      ]
     },
     "execution_count": 22,
     "metadata": {},
     "output_type": "execute_result"
    }
   ],
   "source": [
    "response = response.get(\"Responses\")\n",
    "response = response.get(\"MusicCollection\")\n",
    "response"
   ]
  }
 ],
 "metadata": {
  "kernelspec": {
   "display_name": "Python 3 (ipykernel)",
   "language": "python",
   "name": "python3"
  },
  "language_info": {
   "codemirror_mode": {
    "name": "ipython",
    "version": 3
   },
   "file_extension": ".py",
   "mimetype": "text/x-python",
   "name": "python",
   "nbconvert_exporter": "python",
   "pygments_lexer": "ipython3",
   "version": "3.9.7"
  }
 },
 "nbformat": 4,
 "nbformat_minor": 5
}
